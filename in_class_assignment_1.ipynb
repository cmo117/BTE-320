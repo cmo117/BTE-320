{
  "nbformat": 4,
  "nbformat_minor": 0,
  "metadata": {
    "colab": {
      "provenance": [],
      "authorship_tag": "ABX9TyOeiapjnu9esEXWzXfkv4KO",
      "include_colab_link": true
    },
    "kernelspec": {
      "name": "python3",
      "display_name": "Python 3"
    },
    "language_info": {
      "name": "python"
    }
  },
  "cells": [
    {
      "cell_type": "markdown",
      "metadata": {
        "id": "view-in-github",
        "colab_type": "text"
      },
      "source": [
        "<a href=\"https://colab.research.google.com/github/cmo117/BTE-320/blob/main/in_class_assignment_1.ipynb\" target=\"_parent\"><img src=\"https://colab.research.google.com/assets/colab-badge.svg\" alt=\"Open In Colab\"/></a>"
      ]
    },
    {
      "cell_type": "code",
      "execution_count": null,
      "metadata": {
        "colab": {
          "base_uri": "https://localhost:8080/"
        },
        "id": "R9NVGv2wxhne",
        "outputId": "5784ef3a-8b07-48ff-e22c-7fd4d4049a11"
      },
      "outputs": [
        {
          "output_type": "stream",
          "name": "stdout",
          "text": [
            "Radius: 2\n",
            "Height: 4\n",
            "Surface Area = 75.36 sq. ft\n"
          ]
        }
      ],
      "source": [
        "pi = 3.14\n",
        "radius = int(input(\"Radius: \"))\n",
        "height = int(input(\"Height: \"))\n",
        "area = (2*pi*radius**2)+(2*pi*radius*height)\n",
        "print(\"Surface Area =\", area, \"sq. ft\")"
      ]
    },
    {
      "cell_type": "markdown",
      "source": [
        "Cylinder Area Calculator"
      ],
      "metadata": {
        "id": "5HHZE3HbdEZq"
      }
    },
    {
      "cell_type": "code",
      "source": [
        "number1 = float(input(\"Please provide first number: \"))\n",
        "sign = input(\"Please provide operator (+, -, *, /, //, **, %): \")\n",
        "number2 = float(input(\"Please provide second number: \"))\n",
        "\n",
        "if sign == '+':\n",
        "  print(f'{number1} + {number2} = {number1 + number2}')\n",
        "elif sign =='-':\n",
        "  print(f'{number1} - {number2} = {number1 - number2}')\n",
        "elif sign =='*':\n",
        "  print(f'{number1} * {number2} = {number1 * number2}')\n",
        "elif sign =='/':\n",
        "  print(f'{number1} / {number2} = {number1 / number2}')\n",
        "elif sign =='//':\n",
        "  print(f'{number1} // {number2} = {number1 // number2}')\n",
        "elif sign =='**':\n",
        "  print(f'{number1} ^ {number2} = {number1 * number2}')\n",
        "elif sign =='%':\n",
        "  print(f'{number1} mod {number2} = {number1 % number2}')"
      ],
      "metadata": {
        "colab": {
          "base_uri": "https://localhost:8080/"
        },
        "id": "pM939KMw0pUg",
        "outputId": "d056ae68-ad71-43f2-bd44-a51b052e7d3a"
      },
      "execution_count": null,
      "outputs": [
        {
          "output_type": "stream",
          "name": "stdout",
          "text": [
            "Please provide first number: 6\n",
            "Please provide operator (+, -, *, /, //, **, %): /\n",
            "Please provide second number: 2\n",
            "6.0 / 2.0 = 3.0\n"
          ]
        }
      ]
    },
    {
      "cell_type": "markdown",
      "source": [
        "Numerical Calculator"
      ],
      "metadata": {
        "id": "8vhbdjTQdI5h"
      }
    },
    {
      "cell_type": "code",
      "source": [
        "for numberHours in range(1,9):\n",
        " fee = 5 + 2.5 * numberHours\n",
        " if fee <= 10:\n",
        "  fee = 10.0\n",
        " elif fee >= 20:\n",
        "  fee = 20.0\n",
        " print(numberHours, fee)"
      ],
      "metadata": {
        "colab": {
          "base_uri": "https://localhost:8080/"
        },
        "id": "xtJoR2b0M0nR",
        "outputId": "c3bcc973-166b-48a4-a368-78a5c1a9dc8d"
      },
      "execution_count": null,
      "outputs": [
        {
          "output_type": "stream",
          "name": "stdout",
          "text": [
            "1 10.0\n",
            "2 10.0\n",
            "3 12.5\n",
            "4 15.0\n",
            "5 17.5\n",
            "6 20.0\n",
            "7 20.0\n",
            "8 20.0\n"
          ]
        }
      ]
    },
    {
      "cell_type": "markdown",
      "source": [
        "Parking Garage"
      ],
      "metadata": {
        "id": "o0G6fh9RdRhq"
      }
    },
    {
      "cell_type": "code",
      "source": [
        "def calcFee(hours):\n",
        " fee = 5 + 2.5 * hours\n",
        " if fee < 10:\n",
        "  fee = 10.0\n",
        " elif fee > 20:\n",
        "  fee = 20.0\n",
        " print((f'Fee: {fee}$'))\n",
        "\n",
        "print('Program starts in... ')\n",
        "numHours = int(input('Enter number of hours: '))\n",
        "calcFee(numHours)"
      ],
      "metadata": {
        "colab": {
          "base_uri": "https://localhost:8080/"
        },
        "id": "MFV6sqHKXTLS",
        "outputId": "70e5dccb-838e-44d9-c0d2-dee5ba3e5ea4"
      },
      "execution_count": null,
      "outputs": [
        {
          "output_type": "stream",
          "name": "stdout",
          "text": [
            "Program starts in... \n",
            "Enter number of hours: 5\n",
            "Fee: 17.5$\n"
          ]
        }
      ]
    },
    {
      "cell_type": "code",
      "source": [
        "print('Ad$\\t', 'Profit')\n",
        "for adcost in range(0,201, 25):\n",
        "  additional = 2 * round(adcost ** 0.5)\n",
        "  profit = (20 + additional) * 10 - 200 - adcost\n",
        "  print(adcost, '\\t', profit)"
      ],
      "metadata": {
        "colab": {
          "base_uri": "https://localhost:8080/"
        },
        "id": "BukknQiFOBJz",
        "outputId": "cff93e1f-738e-4a8d-9e35-22515e6eb164"
      },
      "execution_count": null,
      "outputs": [
        {
          "output_type": "stream",
          "name": "stdout",
          "text": [
            "Ad$\t Profit\n",
            "0 \t 0\n",
            "25 \t 75\n",
            "50 \t 90\n",
            "75 \t 105\n",
            "100 \t 100\n",
            "125 \t 95\n",
            "150 \t 90\n",
            "175 \t 85\n",
            "200 \t 80\n"
          ]
        }
      ]
    },
    {
      "cell_type": "markdown",
      "source": [
        "Movie Theatre"
      ],
      "metadata": {
        "id": "jIVdCRjAdfAJ"
      }
    },
    {
      "cell_type": "code",
      "source": [
        "play = input(\"Do you want to play a game (yes/no)? \")\n",
        "\n",
        "while play == 'yes':\n",
        "  player1 = input('Choose between Rock, Paper, and Scissors: ')\n",
        "  player2 = input(\"Choose between Rock, Paper, and Scissors: \")\n",
        "\n",
        "  if player1 == player2:\n",
        "   print('Its a tie!')\n",
        "  elif (p(layer1 == 'Rock' and player2 == 'Scissors') or\n",
        "   (player1 == 'Scissors' and player2 == 'Paper') or\n",
        "    (player1 == 'Paper' and player2 == 'Rock')):\n",
        "   print('Player 1 wins!')\n",
        "  else:\n",
        "   print('Player 2 wins!')\n",
        "\n",
        "  play = input(\"Do you want to play a new game (yes/no)? \")\n",
        "\n",
        "print('Have a good day!')"
      ],
      "metadata": {
        "id": "vlPYh0CHRxl7",
        "colab": {
          "base_uri": "https://localhost:8080/"
        },
        "outputId": "d1db6498-aba4-4199-d310-2bbd18b2a979"
      },
      "execution_count": null,
      "outputs": [
        {
          "output_type": "stream",
          "name": "stdout",
          "text": [
            "Do you want to play a game (yes/no)? yes\n",
            "Choose between Rock, Paper, and Scissors: rock\n",
            "Choose between Rock, Paper, and Scissors: paper\n",
            "Player 2 wins!\n",
            "Do you want to play a new game (yes/no)? yes\n",
            "Choose between Rock, Paper, and Scissors: rock\n",
            "Choose between Rock, Paper, and Scissors: rock\n",
            "Its a tie!\n",
            "Do you want to play a new game (yes/no)? yes\n",
            "Choose between Rock, Paper, and Scissors: rock\n",
            "Choose between Rock, Paper, and Scissors: scissors\n",
            "Player 2 wins!\n",
            "Do you want to play a new game (yes/no)? no\n",
            "Have a good day!\n"
          ]
        }
      ]
    },
    {
      "cell_type": "markdown",
      "source": [
        "Rock Paper Scissors"
      ],
      "metadata": {
        "id": "wj4FVYfVdoRe"
      }
    },
    {
      "cell_type": "code",
      "source": [
        "lst = []\n",
        "num = float(input('Please provide a number: '))\n",
        "\n",
        "while num != 0:\n",
        "  lst.append(num)\n",
        "  num = float(input('Please provide a number: '))\n",
        "\n",
        "lst.sort(reverse=True)\n",
        "lst"
      ],
      "metadata": {
        "colab": {
          "base_uri": "https://localhost:8080/"
        },
        "id": "l6iDtD_Lg8zj",
        "outputId": "8640f4de-72fa-4253-91f5-ebaa3048b963"
      },
      "execution_count": null,
      "outputs": [
        {
          "name": "stdout",
          "output_type": "stream",
          "text": [
            "Please provide a number: 1\n",
            "Please provide a number: 2\n",
            "Please provide a number: 3\n",
            "Please provide a number: 4\n",
            "Please provide a number: 5\n",
            "Please provide a number: 6\n",
            "Please provide a number: 7\n",
            "Please provide a number: 8\n",
            "Please provide a number: 9\n",
            "Please provide a number: 0\n"
          ]
        },
        {
          "output_type": "execute_result",
          "data": {
            "text/plain": [
              "[9.0, 8.0, 7.0, 6.0, 5.0, 4.0, 3.0, 2.0, 1.0]"
            ]
          },
          "metadata": {},
          "execution_count": 1
        }
      ]
    },
    {
      "cell_type": "markdown",
      "source": [
        "Append Items To List iteratively"
      ],
      "metadata": {
        "id": "gJ_EC0yFd2Ov"
      }
    },
    {
      "cell_type": "code",
      "source": [
        "months = {}\n",
        "\n",
        "names = [\"Jan\", \"Feb\", \"Mar\", \"Apr\", \"May\", \"Jun\", \"Jul\", \"Aug\", \"Sep\", \"Oct\", \"Nov\", \"Dec\"]\n",
        "numbers = [1,2,3,4,5,6,7,8,9,10,11,12]\n",
        "\n",
        "for idx in range(len(numbers)):\n",
        "  months[numbers[idx]] = names[idx]\n",
        "months"
      ],
      "metadata": {
        "colab": {
          "base_uri": "https://localhost:8080/"
        },
        "id": "1fvjYglhiUGa",
        "outputId": "e8e2053f-5125-40e1-b7b2-cabd713fd861"
      },
      "execution_count": null,
      "outputs": [
        {
          "output_type": "execute_result",
          "data": {
            "text/plain": [
              "{1: 'Jan',\n",
              " 2: 'Feb',\n",
              " 3: 'Mar',\n",
              " 4: 'Apr',\n",
              " 5: 'May',\n",
              " 6: 'Jun',\n",
              " 7: 'Jul',\n",
              " 8: 'Aug',\n",
              " 9: 'Sep',\n",
              " 10: 'Oct',\n",
              " 11: 'Nov',\n",
              " 12: 'Dec'}"
            ]
          },
          "metadata": {},
          "execution_count": 18
        }
      ]
    },
    {
      "cell_type": "markdown",
      "source": [
        "Dynamic Dictionary of numbers:month pairs"
      ],
      "metadata": {
        "id": "9FOCP-exd_JJ"
      }
    },
    {
      "cell_type": "code",
      "source": [
        "counts = {}\n",
        "\n",
        "while len(counts) < 5:\n",
        "  key = input('Give a string: ')\n",
        "\n",
        "  if key not in counts:\n",
        "    counts[key] = 1\n",
        "  else:\n",
        "    counts[key] += 1\n",
        "\n",
        "counts"
      ],
      "metadata": {
        "colab": {
          "base_uri": "https://localhost:8080/"
        },
        "id": "vNZZPEYfot4L",
        "outputId": "4e1e30ca-daa5-4582-e156-b6d23cb4b4a2"
      },
      "execution_count": null,
      "outputs": [
        {
          "name": "stdout",
          "output_type": "stream",
          "text": [
            "Give a string: a\n",
            "Give a string: a\n",
            "Give a string: v\n",
            "Give a string: bb\n",
            "Give a string: bb\n",
            "Give a string: c\n",
            "Give a string: e\n"
          ]
        },
        {
          "output_type": "execute_result",
          "data": {
            "text/plain": [
              "{'a': 2, 'v': 1, 'bb': 2, 'c': 1, 'e': 1}"
            ]
          },
          "metadata": {},
          "execution_count": 3
        }
      ]
    },
    {
      "cell_type": "markdown",
      "source": [
        "Dynamic dictionary; 5 distinct key:value pairs"
      ],
      "metadata": {
        "id": "1EzewWpYeQ2b"
      }
    },
    {
      "cell_type": "code",
      "source": [
        "def calcFee(hours):\n",
        " fee = 5 + 2.5 * hours\n",
        " if fee < 10:\n",
        "  fee = 10.0\n",
        " elif fee > 20:\n",
        "  fee = 20.0\n",
        " print((f'Fee: {fee}$'))\n",
        "\n",
        "def main():\n",
        "  try:\n",
        "   numHours = int(input('Enter number of hours: '))\n",
        "   calcFee(numHours)\n",
        "  except ValueError:\n",
        "   print('Cannot Cast to int().')\n",
        "  except:\n",
        "    print('Unknown error...')\n",
        "\n",
        "if __name__ == \"__main__\":\n",
        "  main()"
      ],
      "metadata": {
        "colab": {
          "base_uri": "https://localhost:8080/"
        },
        "id": "_tlj_O5VDe9u",
        "outputId": "8f8b87f6-1930-4f78-9021-356b79d714b3"
      },
      "execution_count": null,
      "outputs": [
        {
          "output_type": "stream",
          "name": "stdout",
          "text": [
            "Enter number of hours: -3\n",
            "Fee: 10.0$\n"
          ]
        }
      ]
    },
    {
      "cell_type": "markdown",
      "source": [
        "Parking Garage: CalcFee function"
      ],
      "metadata": {
        "id": "uwKVs_dnehgs"
      }
    },
    {
      "cell_type": "code",
      "source": [
        "def reverse(word):\n",
        "  if len(word) == 1:\n",
        "    return word\n",
        "  else:\n",
        "    return word[-1] + reverse(word[:-1])\n",
        "\n",
        "reverse('Hello')"
      ],
      "metadata": {
        "colab": {
          "base_uri": "https://localhost:8080/",
          "height": 35
        },
        "id": "-l_g4WEyenZK",
        "outputId": "a1ea6094-e2de-4108-a26d-907b8db432bc"
      },
      "execution_count": null,
      "outputs": [
        {
          "output_type": "execute_result",
          "data": {
            "text/plain": [
              "'olleH'"
            ],
            "application/vnd.google.colaboratory.intrinsic+json": {
              "type": "string"
            }
          },
          "metadata": {},
          "execution_count": 7
        }
      ]
    },
    {
      "cell_type": "markdown",
      "source": [
        "Recursive Function: String Reversal"
      ],
      "metadata": {
        "id": "pwsEf4aOesq1"
      }
    },
    {
      "cell_type": "code",
      "source": [
        "def calcFee(hours):\n",
        "  fee = 5 + 2.5*hours\n",
        "  if fee <= 10:\n",
        "    fee = 10.0\n",
        "  elif fee >= 20:\n",
        "    fee = 20.0\n",
        "  print(f'Fee: {fee}$')\n",
        "\n",
        "def main():\n",
        "  try:\n",
        "    numHours = int(input('Enter number of hours: '))\n",
        "    calcFee(numHours)\n",
        "  except ValueError:\n",
        "    print('Please enter a valid number')\n",
        "  except:\n",
        "    print('Unknown error...')\n",
        "\n",
        "if __name__ == '__main__':\n",
        "  main()"
      ],
      "metadata": {
        "colab": {
          "base_uri": "https://localhost:8080/"
        },
        "id": "Z2O_7W3oe1iI",
        "outputId": "09f1a868-1ae5-49a6-fb98-02df777ee21c"
      },
      "execution_count": null,
      "outputs": [
        {
          "output_type": "stream",
          "name": "stdout",
          "text": [
            "Enter number of hours: 4\n",
            "Fee: 15.0$\n"
          ]
        }
      ]
    },
    {
      "cell_type": "markdown",
      "source": [
        "Parking Fee Assignment 2"
      ],
      "metadata": {
        "id": "i_fRktfNe5Wg"
      }
    },
    {
      "cell_type": "code",
      "source": [
        "def getValues(n):\n",
        "  L = []\n",
        "  for i in range(n):\n",
        "    weight = float(input(\"Enter weight: \"))\n",
        "    L.append(weight)\n",
        "  return L\n",
        "\n",
        "def calcAverage(alist):\n",
        "  try:\n",
        "    print(f'The average weight is: {sum(alist[2:]) / len(alist[2:])}')\n",
        "  except ZeroDivisionError:\n",
        "    print(f'List {alist} is empty')\n",
        "\n",
        "if __name__ == \"__main__\":\n",
        "  try:\n",
        "    n = int(input(\"Enter size of list: \"))\n",
        "    alist = getValues(n)\n",
        "    calcAverage(alist)\n",
        "  except ValueError:\n",
        "    print('Please enter a valid number')"
      ],
      "metadata": {
        "colab": {
          "base_uri": "https://localhost:8080/"
        },
        "id": "0AOgdqVmfVyF",
        "outputId": "077acb79-d1a8-4dc9-f68a-fb2e23fc83c9"
      },
      "execution_count": null,
      "outputs": [
        {
          "output_type": "stream",
          "name": "stdout",
          "text": [
            "Enter size of list: 3\n",
            "Enter weight: 9\n",
            "Enter weight: 6\n",
            "Enter weight: 6\n",
            "The average weight is: 6.0\n"
          ]
        }
      ]
    },
    {
      "cell_type": "markdown",
      "source": [
        "Exception Handling"
      ],
      "metadata": {
        "id": "tj4KLEDxg7hB"
      }
    },
    {
      "cell_type": "code",
      "source": [
        "class Greeting:\n",
        "  def __init__(self, first, last):\n",
        "    self.first = first\n",
        "    self.last = last\n",
        "\n",
        "  def display(self, formal=False):\n",
        "    if formal:\n",
        "      print(f'Hello {self.last} {self.first}')\n",
        "    else:\n",
        "      print(f'Hi {self.first}')\n",
        "\n",
        "  def __str__(self):\n",
        "    return f'{self.first}, {self.last}'\n",
        "\n",
        "greeting = Greeting('Donald', 'Becker')\n",
        "greeting.display(formal=True)\n",
        "print(greeting)"
      ],
      "metadata": {
        "colab": {
          "base_uri": "https://localhost:8080/"
        },
        "id": "M_ED5mAYXV3D",
        "outputId": "07f848ac-7de5-4a06-9d30-8baef861e99b"
      },
      "execution_count": null,
      "outputs": [
        {
          "output_type": "stream",
          "name": "stdout",
          "text": [
            "Hello Becker Donald\n",
            "Donald, Becker\n"
          ]
        }
      ]
    },
    {
      "cell_type": "markdown",
      "source": [
        "Greeting Class"
      ],
      "metadata": {
        "id": "Vvbr-hrff2rV"
      }
    },
    {
      "cell_type": "code",
      "source": [
        "class Student:\n",
        "  def __init__(self, name, number):\n",
        "    self.name = name\n",
        "    self.number = number\n",
        "    self.courses = []\n",
        "\n",
        "  def enroll(self, course):\n",
        "    if course not in self.courses:\n",
        "      self.courses.append(course)\n",
        "    else:\n",
        "      print(f'You have already enrolled in {course}.')\n",
        "\n",
        "  def get_courses(self):\n",
        "    return self.courses\n",
        "\n",
        "s1 = Student('Bob', 100)\n",
        "s2 = Student('Alice', 101)\n",
        "s1.name, s2.name"
      ],
      "metadata": {
        "colab": {
          "base_uri": "https://localhost:8080/"
        },
        "id": "AS6_y64ef4-x",
        "outputId": "797bd373-a552-48b8-9a34-03e5112a5802"
      },
      "execution_count": null,
      "outputs": [
        {
          "output_type": "execute_result",
          "data": {
            "text/plain": [
              "('Bob', 'Alice')"
            ]
          },
          "metadata": {},
          "execution_count": 13
        }
      ]
    },
    {
      "cell_type": "markdown",
      "source": [
        "Student Class"
      ],
      "metadata": {
        "id": "ww9iyh3of82v"
      }
    },
    {
      "cell_type": "code",
      "source": [
        "import math\n",
        "\n",
        "class Point:\n",
        "  def __init__(self, x, y):\n",
        "    self.x = x\n",
        "    self.y = y\n",
        "\n",
        "  def distance(self, other):\n",
        "    dx = (self.x - other.x)**2\n",
        "    dy = (self.y - other.y)**2\n",
        "    dist = math.sqrt(dx + dy)\n",
        "    return(dist)"
      ],
      "metadata": {
        "id": "GWgCe2mrgCNc"
      },
      "execution_count": null,
      "outputs": []
    },
    {
      "cell_type": "code",
      "source": [
        "class Rectangle:\n",
        "  def __init__(self):\n",
        "    self.c1 = Point(0,0)\n",
        "    self.c2 = Point(0,2)\n",
        "    self.c3 = Point(2,0)\n",
        "    self.c4 = Point(2,2)\n",
        "    self.width = self.calculate_width()\n",
        "    self.height = self.calculate_height()\n",
        "\n",
        "  def calculate_width(self):\n",
        "    return self.c1.distance(self.c2)\n",
        "\n",
        "  def calculate_height(self):\n",
        "    return self.c3.distance(self.c4)\n",
        "\n",
        "  def area(self):\n",
        "    return self.width * self.height\n",
        "\n",
        "square = Rectangle()\n",
        "square.area()"
      ],
      "metadata": {
        "colab": {
          "base_uri": "https://localhost:8080/"
        },
        "id": "r_xuXUjfgFdK",
        "outputId": "42ec384a-c4ba-4087-c6cd-4b730e180627"
      },
      "execution_count": null,
      "outputs": [
        {
          "output_type": "execute_result",
          "data": {
            "text/plain": [
              "4.0"
            ]
          },
          "metadata": {},
          "execution_count": 15
        }
      ]
    },
    {
      "cell_type": "markdown",
      "source": [
        "Classes Point and Rectangle"
      ],
      "metadata": {
        "id": "RGCa92jdgHpc"
      }
    }
  ]
}