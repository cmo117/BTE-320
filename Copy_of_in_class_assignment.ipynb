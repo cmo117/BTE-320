{
  "nbformat": 4,
  "nbformat_minor": 0,
  "metadata": {
    "colab": {
      "provenance": [],
      "authorship_tag": "ABX9TyO/UnbWoIf8WZOYKzW5mXc0",
      "include_colab_link": true
    },
    "kernelspec": {
      "name": "python3",
      "display_name": "Python 3"
    },
    "language_info": {
      "name": "python"
    }
  },
  "cells": [
    {
      "cell_type": "markdown",
      "metadata": {
        "id": "view-in-github",
        "colab_type": "text"
      },
      "source": [
        "<a href=\"https://colab.research.google.com/github/cmo117/BTE-320/blob/main/Copy_of_in_class_assignment.ipynb\" target=\"_parent\"><img src=\"https://colab.research.google.com/assets/colab-badge.svg\" alt=\"Open In Colab\"/></a>"
      ]
    },
    {
      "cell_type": "code",
      "execution_count": null,
      "metadata": {
        "colab": {
          "base_uri": "https://localhost:8080/"
        },
        "id": "R9NVGv2wxhne",
        "outputId": "918bbecf-3d46-4579-96c8-cc773b851ec9"
      },
      "outputs": [
        {
          "output_type": "stream",
          "name": "stdout",
          "text": [
            "Radius: 2\n",
            "Height: 4\n",
            "Surface Area = 75.36 sq. ft\n"
          ]
        }
      ],
      "source": [
        "pi = 3.14\n",
        "radius = int(input(\"Radius: \"))\n",
        "height = int(input(\"Height: \"))\n",
        "area = (2*pi*radius**2)+(2*pi*radius*height)\n",
        "print(\"Surface Area =\", area, \"sq. ft\")"
      ]
    }
  ]
}